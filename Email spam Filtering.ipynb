{
 "cells": [
  {
   "cell_type": "markdown",
   "id": "3275dc31",
   "metadata": {},
   "source": [
    "### Email spam filtering"
   ]
  },
  {
   "cell_type": "markdown",
   "id": "08571d78",
   "metadata": {},
   "source": [
    "### Load Data"
   ]
  },
  {
   "cell_type": "code",
   "execution_count": 1,
   "id": "fb2dedac",
   "metadata": {},
   "outputs": [],
   "source": [
    "import pandas as pd"
   ]
  },
  {
   "cell_type": "code",
   "execution_count": 2,
   "id": "5ee0230d",
   "metadata": {},
   "outputs": [],
   "source": [
    "data = pd.read_csv('sms.tsv',delimiter='\\t',names=['label','Messages'])"
   ]
  },
  {
   "cell_type": "code",
   "execution_count": 3,
   "id": "7bf7771e",
   "metadata": {},
   "outputs": [
    {
     "data": {
      "text/html": [
       "<div>\n",
       "<style scoped>\n",
       "    .dataframe tbody tr th:only-of-type {\n",
       "        vertical-align: middle;\n",
       "    }\n",
       "\n",
       "    .dataframe tbody tr th {\n",
       "        vertical-align: top;\n",
       "    }\n",
       "\n",
       "    .dataframe thead th {\n",
       "        text-align: right;\n",
       "    }\n",
       "</style>\n",
       "<table border=\"1\" class=\"dataframe\">\n",
       "  <thead>\n",
       "    <tr style=\"text-align: right;\">\n",
       "      <th></th>\n",
       "      <th>label</th>\n",
       "      <th>Messages</th>\n",
       "    </tr>\n",
       "  </thead>\n",
       "  <tbody>\n",
       "    <tr>\n",
       "      <th>0</th>\n",
       "      <td>ham</td>\n",
       "      <td>Go until jurong point, crazy.. Available only ...</td>\n",
       "    </tr>\n",
       "    <tr>\n",
       "      <th>1</th>\n",
       "      <td>ham</td>\n",
       "      <td>Ok lar... Joking wif u oni...</td>\n",
       "    </tr>\n",
       "    <tr>\n",
       "      <th>2</th>\n",
       "      <td>spam</td>\n",
       "      <td>Free entry in 2 a wkly comp to win FA Cup fina...</td>\n",
       "    </tr>\n",
       "    <tr>\n",
       "      <th>3</th>\n",
       "      <td>ham</td>\n",
       "      <td>U dun say so early hor... U c already then say...</td>\n",
       "    </tr>\n",
       "    <tr>\n",
       "      <th>4</th>\n",
       "      <td>ham</td>\n",
       "      <td>Nah I don't think he goes to usf, he lives aro...</td>\n",
       "    </tr>\n",
       "  </tbody>\n",
       "</table>\n",
       "</div>"
      ],
      "text/plain": [
       "  label                                           Messages\n",
       "0   ham  Go until jurong point, crazy.. Available only ...\n",
       "1   ham                      Ok lar... Joking wif u oni...\n",
       "2  spam  Free entry in 2 a wkly comp to win FA Cup fina...\n",
       "3   ham  U dun say so early hor... U c already then say...\n",
       "4   ham  Nah I don't think he goes to usf, he lives aro..."
      ]
     },
     "execution_count": 3,
     "metadata": {},
     "output_type": "execute_result"
    }
   ],
   "source": [
    "data.head()"
   ]
  },
  {
   "cell_type": "code",
   "execution_count": 4,
   "id": "77930e47",
   "metadata": {},
   "outputs": [
    {
     "data": {
      "text/plain": [
       "(5572, 2)"
      ]
     },
     "execution_count": 4,
     "metadata": {},
     "output_type": "execute_result"
    }
   ],
   "source": [
    "data.shape"
   ]
  },
  {
   "cell_type": "code",
   "execution_count": 5,
   "id": "1adde936",
   "metadata": {},
   "outputs": [],
   "source": [
    "data['label']=data['label'].map({'ham':0,'spam':1})"
   ]
  },
  {
   "cell_type": "code",
   "execution_count": 6,
   "id": "9fb4aeb0",
   "metadata": {},
   "outputs": [
    {
     "data": {
      "text/html": [
       "<div>\n",
       "<style scoped>\n",
       "    .dataframe tbody tr th:only-of-type {\n",
       "        vertical-align: middle;\n",
       "    }\n",
       "\n",
       "    .dataframe tbody tr th {\n",
       "        vertical-align: top;\n",
       "    }\n",
       "\n",
       "    .dataframe thead th {\n",
       "        text-align: right;\n",
       "    }\n",
       "</style>\n",
       "<table border=\"1\" class=\"dataframe\">\n",
       "  <thead>\n",
       "    <tr style=\"text-align: right;\">\n",
       "      <th></th>\n",
       "      <th>label</th>\n",
       "      <th>Messages</th>\n",
       "    </tr>\n",
       "  </thead>\n",
       "  <tbody>\n",
       "    <tr>\n",
       "      <th>0</th>\n",
       "      <td>0</td>\n",
       "      <td>Go until jurong point, crazy.. Available only ...</td>\n",
       "    </tr>\n",
       "    <tr>\n",
       "      <th>1</th>\n",
       "      <td>0</td>\n",
       "      <td>Ok lar... Joking wif u oni...</td>\n",
       "    </tr>\n",
       "    <tr>\n",
       "      <th>2</th>\n",
       "      <td>1</td>\n",
       "      <td>Free entry in 2 a wkly comp to win FA Cup fina...</td>\n",
       "    </tr>\n",
       "    <tr>\n",
       "      <th>3</th>\n",
       "      <td>0</td>\n",
       "      <td>U dun say so early hor... U c already then say...</td>\n",
       "    </tr>\n",
       "    <tr>\n",
       "      <th>4</th>\n",
       "      <td>0</td>\n",
       "      <td>Nah I don't think he goes to usf, he lives aro...</td>\n",
       "    </tr>\n",
       "  </tbody>\n",
       "</table>\n",
       "</div>"
      ],
      "text/plain": [
       "   label                                           Messages\n",
       "0      0  Go until jurong point, crazy.. Available only ...\n",
       "1      0                      Ok lar... Joking wif u oni...\n",
       "2      1  Free entry in 2 a wkly comp to win FA Cup fina...\n",
       "3      0  U dun say so early hor... U c already then say...\n",
       "4      0  Nah I don't think he goes to usf, he lives aro..."
      ]
     },
     "execution_count": 6,
     "metadata": {},
     "output_type": "execute_result"
    }
   ],
   "source": [
    "data.head()"
   ]
  },
  {
   "cell_type": "code",
   "execution_count": 7,
   "id": "65a3954c",
   "metadata": {},
   "outputs": [
    {
     "data": {
      "text/plain": [
       "0    4825\n",
       "1     747\n",
       "Name: label, dtype: int64"
      ]
     },
     "execution_count": 7,
     "metadata": {},
     "output_type": "execute_result"
    }
   ],
   "source": [
    "data.label.value_counts()"
   ]
  },
  {
   "cell_type": "markdown",
   "id": "32603158",
   "metadata": {},
   "source": [
    "### clean and Prepare data"
   ]
  },
  {
   "cell_type": "code",
   "execution_count": 8,
   "id": "bc1dcdf8",
   "metadata": {},
   "outputs": [],
   "source": [
    "import re\n",
    "\n",
    "def clean(x):\n",
    "    \n",
    "    #remove all html tags from data\n",
    "    #remove all numbers from data\n",
    "    #remove all special chars from data\n",
    "    #etc..\n",
    "    s = re.sub('[^A-Za-z]',' ',x)  #to replace everything except A-Z or a-z\n",
    "    s = re.sub('\\s+',' ',s)\n",
    "    s = s.strip()\n",
    "    \n",
    "    return s.lower()"
   ]
  },
  {
   "cell_type": "code",
   "execution_count": 9,
   "id": "1088fcfe",
   "metadata": {},
   "outputs": [],
   "source": [
    "data['Messages'] = data.Messages.apply(clean)"
   ]
  },
  {
   "cell_type": "code",
   "execution_count": 10,
   "id": "0bad4741",
   "metadata": {},
   "outputs": [],
   "source": [
    "X = data.Messages.values\n",
    "y = data.label.values"
   ]
  },
  {
   "cell_type": "code",
   "execution_count": 11,
   "id": "d69f1179",
   "metadata": {},
   "outputs": [],
   "source": [
    "from sklearn.model_selection import train_test_split"
   ]
  },
  {
   "cell_type": "code",
   "execution_count": 12,
   "id": "e91020bb",
   "metadata": {},
   "outputs": [],
   "source": [
    "xtrain,xtest,ytrain,ytest = train_test_split(X,y,test_size=.25,random_state=12)"
   ]
  },
  {
   "cell_type": "code",
   "execution_count": 13,
   "id": "ffd5aebb",
   "metadata": {},
   "outputs": [],
   "source": [
    "from nltk.corpus import stopwords\n",
    "\n",
    "stopwords = stopwords.words('english')"
   ]
  },
  {
   "cell_type": "code",
   "execution_count": 14,
   "id": "e0f22aa8",
   "metadata": {},
   "outputs": [],
   "source": [
    "### Remove 'not' from stopword list"
   ]
  },
  {
   "cell_type": "code",
   "execution_count": 15,
   "id": "6a130609",
   "metadata": {},
   "outputs": [],
   "source": [
    "if 'not' in stopwords:\n",
    "    stopwords.remove('not')"
   ]
  },
  {
   "cell_type": "code",
   "execution_count": 16,
   "id": "c290aa73",
   "metadata": {},
   "outputs": [
    {
     "name": "stdout",
     "output_type": "stream",
     "text": [
      "not found\n"
     ]
    }
   ],
   "source": [
    "## confirm \n",
    "\n",
    "if 'not' in stopwords:\n",
    "    print('found')\n",
    "else:\n",
    "    print('not found')"
   ]
  },
  {
   "cell_type": "markdown",
   "id": "44f4348d",
   "metadata": {},
   "source": [
    "### Transform text data into Numeric"
   ]
  },
  {
   "cell_type": "code",
   "execution_count": 17,
   "id": "85711591",
   "metadata": {},
   "outputs": [],
   "source": [
    "from sklearn.feature_extraction.text import CountVectorizer"
   ]
  },
  {
   "cell_type": "code",
   "execution_count": 18,
   "id": "aad4a2d3",
   "metadata": {},
   "outputs": [],
   "source": [
    "cv1 = CountVectorizer(stop_words=stopwords)  "
   ]
  },
  {
   "cell_type": "code",
   "execution_count": 19,
   "id": "85716949",
   "metadata": {},
   "outputs": [],
   "source": [
    "cv_train = cv1.fit_transform(xtrain).toarray()\n",
    "\n",
    "cv_test = cv1.transform(xtest).toarray()"
   ]
  },
  {
   "cell_type": "code",
   "execution_count": 20,
   "id": "25c8afd5",
   "metadata": {},
   "outputs": [],
   "source": [
    "#cv1.get_feature_names()"
   ]
  },
  {
   "cell_type": "code",
   "execution_count": 21,
   "id": "8080a5a9",
   "metadata": {},
   "outputs": [
    {
     "data": {
      "text/plain": [
       "(4179, 6489)"
      ]
     },
     "execution_count": 21,
     "metadata": {},
     "output_type": "execute_result"
    }
   ],
   "source": [
    "cv_train.shape"
   ]
  },
  {
   "cell_type": "code",
   "execution_count": 22,
   "id": "4a0fca86",
   "metadata": {},
   "outputs": [
    {
     "data": {
      "text/plain": [
       "(1393, 6489)"
      ]
     },
     "execution_count": 22,
     "metadata": {},
     "output_type": "execute_result"
    }
   ],
   "source": [
    "cv_test.shape"
   ]
  },
  {
   "cell_type": "code",
   "execution_count": 23,
   "id": "6c277652",
   "metadata": {},
   "outputs": [],
   "source": [
    "#cv1.get_feature_names()"
   ]
  },
  {
   "cell_type": "code",
   "execution_count": null,
   "id": "dce1ba68",
   "metadata": {},
   "outputs": [],
   "source": []
  },
  {
   "cell_type": "markdown",
   "id": "7a16c77d",
   "metadata": {},
   "source": [
    "### Train model"
   ]
  },
  {
   "cell_type": "code",
   "execution_count": 24,
   "id": "99ea2946",
   "metadata": {},
   "outputs": [],
   "source": [
    "from sklearn.naive_bayes import MultinomialNB\n",
    "from sklearn.linear_model import LogisticRegression\n",
    "from sklearn.neighbors import KNeighborsClassifier\n",
    "\n",
    "from sklearn.metrics import confusion_matrix,recall_score,precision_score\n",
    "\n",
    "import numpy as np"
   ]
  },
  {
   "cell_type": "markdown",
   "id": "7b5f2df3",
   "metadata": {},
   "source": [
    "### Naive bayes"
   ]
  },
  {
   "cell_type": "code",
   "execution_count": 25,
   "id": "cb99809a",
   "metadata": {},
   "outputs": [
    {
     "data": {
      "text/plain": [
       "0.9741564967695621"
      ]
     },
     "execution_count": 25,
     "metadata": {},
     "output_type": "execute_result"
    }
   ],
   "source": [
    "nb = MultinomialNB()\n",
    "\n",
    "nb.fit(cv_train,ytrain)\n",
    "\n",
    "test_score = nb.score(cv_test,ytest)\n",
    "test_score"
   ]
  },
  {
   "cell_type": "code",
   "execution_count": 26,
   "id": "014c4592",
   "metadata": {},
   "outputs": [],
   "source": [
    "pred = nb.predict(cv_test)"
   ]
  },
  {
   "cell_type": "code",
   "execution_count": 27,
   "id": "91682daa",
   "metadata": {},
   "outputs": [
    {
     "data": {
      "text/plain": [
       "array([1197,  196], dtype=int64)"
      ]
     },
     "execution_count": 27,
     "metadata": {},
     "output_type": "execute_result"
    }
   ],
   "source": [
    "np.bincount(ytest)"
   ]
  },
  {
   "cell_type": "code",
   "execution_count": 28,
   "id": "03a68503",
   "metadata": {},
   "outputs": [
    {
     "data": {
      "text/plain": [
       "array([[1182,   15],\n",
       "       [  21,  175]], dtype=int64)"
      ]
     },
     "execution_count": 28,
     "metadata": {},
     "output_type": "execute_result"
    }
   ],
   "source": [
    "confusion_matrix(ytest,pred)"
   ]
  },
  {
   "cell_type": "code",
   "execution_count": 29,
   "id": "464d2fb1",
   "metadata": {},
   "outputs": [
    {
     "data": {
      "text/plain": [
       "0.8928571428571429"
      ]
     },
     "execution_count": 29,
     "metadata": {},
     "output_type": "execute_result"
    }
   ],
   "source": [
    "recall_score(ytest,pred)"
   ]
  },
  {
   "cell_type": "code",
   "execution_count": 30,
   "id": "04d76f12",
   "metadata": {},
   "outputs": [
    {
     "data": {
      "text/plain": [
       "0.9210526315789473"
      ]
     },
     "execution_count": 30,
     "metadata": {},
     "output_type": "execute_result"
    }
   ],
   "source": [
    "precision_score(ytest,pred)"
   ]
  },
  {
   "cell_type": "markdown",
   "id": "321dc8e4",
   "metadata": {},
   "source": [
    "### Logistic Regression"
   ]
  },
  {
   "cell_type": "code",
   "execution_count": 31,
   "id": "385e6f07",
   "metadata": {},
   "outputs": [],
   "source": [
    "from sklearn.model_selection import GridSearchCV"
   ]
  },
  {
   "cell_type": "code",
   "execution_count": 32,
   "id": "acdae4ed",
   "metadata": {},
   "outputs": [
    {
     "data": {
      "text/plain": [
       "0.9540559942569993"
      ]
     },
     "execution_count": 32,
     "metadata": {},
     "output_type": "execute_result"
    }
   ],
   "source": [
    "#nb = MultinomialNB()\n",
    "log = LogisticRegression(C=.01,class_weight={1:3})\n",
    "\n",
    "log.fit(cv_train,ytrain)\n",
    "\n",
    "test_score = log.score(cv_test,ytest)\n",
    "test_score"
   ]
  },
  {
   "cell_type": "code",
   "execution_count": 33,
   "id": "9199a928",
   "metadata": {},
   "outputs": [],
   "source": [
    "log_pred = log.predict(cv_test)"
   ]
  },
  {
   "cell_type": "code",
   "execution_count": 34,
   "id": "910ec351",
   "metadata": {},
   "outputs": [
    {
     "data": {
      "text/plain": [
       "array([[1182,   15],\n",
       "       [  49,  147]], dtype=int64)"
      ]
     },
     "execution_count": 34,
     "metadata": {},
     "output_type": "execute_result"
    }
   ],
   "source": [
    "confusion_matrix(ytest,log_pred)"
   ]
  },
  {
   "cell_type": "code",
   "execution_count": 35,
   "id": "27d90175",
   "metadata": {},
   "outputs": [
    {
     "data": {
      "text/plain": [
       "0.75"
      ]
     },
     "execution_count": 35,
     "metadata": {},
     "output_type": "execute_result"
    }
   ],
   "source": [
    "recall_score(ytest,log_pred)"
   ]
  },
  {
   "cell_type": "code",
   "execution_count": 36,
   "id": "9e5cfa17",
   "metadata": {},
   "outputs": [
    {
     "data": {
      "text/plain": [
       "0.9074074074074074"
      ]
     },
     "execution_count": 36,
     "metadata": {},
     "output_type": "execute_result"
    }
   ],
   "source": [
    "precision_score(ytest,log_pred)"
   ]
  },
  {
   "cell_type": "markdown",
   "id": "47633db1",
   "metadata": {},
   "source": [
    "### Evaluate model on test data"
   ]
  },
  {
   "cell_type": "code",
   "execution_count": 37,
   "id": "07db0caf",
   "metadata": {},
   "outputs": [],
   "source": [
    "test = ['Get free tickets..!Win cash','hi john I will call you later']"
   ]
  },
  {
   "cell_type": "code",
   "execution_count": 38,
   "id": "49ee036c",
   "metadata": {},
   "outputs": [],
   "source": [
    "cleaned_data=[]\n",
    "\n",
    "for i in test:\n",
    "    t = clean(i)\n",
    "    cleaned_data.append(t)"
   ]
  },
  {
   "cell_type": "code",
   "execution_count": 39,
   "id": "297f826e",
   "metadata": {},
   "outputs": [
    {
     "data": {
      "text/plain": [
       "['get free tickets win cash', 'hi john i will call you later']"
      ]
     },
     "execution_count": 39,
     "metadata": {},
     "output_type": "execute_result"
    }
   ],
   "source": [
    "cleaned_data"
   ]
  },
  {
   "cell_type": "code",
   "execution_count": 40,
   "id": "f8931758",
   "metadata": {},
   "outputs": [],
   "source": [
    "t1 = cv1.transform(cleaned_data)"
   ]
  },
  {
   "cell_type": "code",
   "execution_count": 41,
   "id": "0e45e639",
   "metadata": {},
   "outputs": [
    {
     "data": {
      "text/plain": [
       "(2, 6489)"
      ]
     },
     "execution_count": 41,
     "metadata": {},
     "output_type": "execute_result"
    }
   ],
   "source": [
    "t1.shape"
   ]
  },
  {
   "cell_type": "code",
   "execution_count": 42,
   "id": "1d30faba",
   "metadata": {},
   "outputs": [
    {
     "data": {
      "text/plain": [
       "array([1, 0], dtype=int64)"
      ]
     },
     "execution_count": 42,
     "metadata": {},
     "output_type": "execute_result"
    }
   ],
   "source": [
    "nb.predict(t1)"
   ]
  },
  {
   "cell_type": "code",
   "execution_count": 43,
   "id": "5c1da12e",
   "metadata": {},
   "outputs": [
    {
     "data": {
      "text/plain": [
       "array([0, 0], dtype=int64)"
      ]
     },
     "execution_count": 43,
     "metadata": {},
     "output_type": "execute_result"
    }
   ],
   "source": [
    "log.predict(t1)"
   ]
  },
  {
   "cell_type": "markdown",
   "id": "4ee37a9b",
   "metadata": {},
   "source": [
    "**Note:**\n",
    "\n",
    "- Model has classified both samples correctly"
   ]
  },
  {
   "cell_type": "code",
   "execution_count": 44,
   "id": "bac21130",
   "metadata": {},
   "outputs": [],
   "source": [
    "############################## Trying Naive Bayes method to classify on moview review-sentiment datasets #####################"
   ]
  },
  {
   "cell_type": "code",
   "execution_count": 45,
   "id": "0e1ca3b5",
   "metadata": {},
   "outputs": [],
   "source": [
    "import pandas as pd"
   ]
  },
  {
   "cell_type": "code",
   "execution_count": 46,
   "id": "588bdac2",
   "metadata": {},
   "outputs": [],
   "source": [
    "df = pd.read_csv('IMDB Dataset.csv')"
   ]
  },
  {
   "cell_type": "code",
   "execution_count": 47,
   "id": "b6e45ee9",
   "metadata": {},
   "outputs": [
    {
     "data": {
      "text/html": [
       "<div>\n",
       "<style scoped>\n",
       "    .dataframe tbody tr th:only-of-type {\n",
       "        vertical-align: middle;\n",
       "    }\n",
       "\n",
       "    .dataframe tbody tr th {\n",
       "        vertical-align: top;\n",
       "    }\n",
       "\n",
       "    .dataframe thead th {\n",
       "        text-align: right;\n",
       "    }\n",
       "</style>\n",
       "<table border=\"1\" class=\"dataframe\">\n",
       "  <thead>\n",
       "    <tr style=\"text-align: right;\">\n",
       "      <th></th>\n",
       "      <th>review</th>\n",
       "      <th>sentiment</th>\n",
       "    </tr>\n",
       "  </thead>\n",
       "  <tbody>\n",
       "    <tr>\n",
       "      <th>0</th>\n",
       "      <td>One of the other reviewers has mentioned that ...</td>\n",
       "      <td>positive</td>\n",
       "    </tr>\n",
       "    <tr>\n",
       "      <th>1</th>\n",
       "      <td>A wonderful little production. &lt;br /&gt;&lt;br /&gt;The...</td>\n",
       "      <td>positive</td>\n",
       "    </tr>\n",
       "    <tr>\n",
       "      <th>2</th>\n",
       "      <td>I thought this was a wonderful way to spend ti...</td>\n",
       "      <td>positive</td>\n",
       "    </tr>\n",
       "    <tr>\n",
       "      <th>3</th>\n",
       "      <td>Basically there's a family where a little boy ...</td>\n",
       "      <td>negative</td>\n",
       "    </tr>\n",
       "    <tr>\n",
       "      <th>4</th>\n",
       "      <td>Petter Mattei's \"Love in the Time of Money\" is...</td>\n",
       "      <td>positive</td>\n",
       "    </tr>\n",
       "  </tbody>\n",
       "</table>\n",
       "</div>"
      ],
      "text/plain": [
       "                                              review sentiment\n",
       "0  One of the other reviewers has mentioned that ...  positive\n",
       "1  A wonderful little production. <br /><br />The...  positive\n",
       "2  I thought this was a wonderful way to spend ti...  positive\n",
       "3  Basically there's a family where a little boy ...  negative\n",
       "4  Petter Mattei's \"Love in the Time of Money\" is...  positive"
      ]
     },
     "execution_count": 47,
     "metadata": {},
     "output_type": "execute_result"
    }
   ],
   "source": [
    "df.head()"
   ]
  },
  {
   "cell_type": "code",
   "execution_count": 48,
   "id": "d3d1e7bd",
   "metadata": {},
   "outputs": [],
   "source": [
    "df['sentiment']=df['sentiment'].map({'negative':0,'positive':1})"
   ]
  },
  {
   "cell_type": "code",
   "execution_count": 49,
   "id": "49e3e2b9",
   "metadata": {},
   "outputs": [
    {
     "data": {
      "text/html": [
       "<div>\n",
       "<style scoped>\n",
       "    .dataframe tbody tr th:only-of-type {\n",
       "        vertical-align: middle;\n",
       "    }\n",
       "\n",
       "    .dataframe tbody tr th {\n",
       "        vertical-align: top;\n",
       "    }\n",
       "\n",
       "    .dataframe thead th {\n",
       "        text-align: right;\n",
       "    }\n",
       "</style>\n",
       "<table border=\"1\" class=\"dataframe\">\n",
       "  <thead>\n",
       "    <tr style=\"text-align: right;\">\n",
       "      <th></th>\n",
       "      <th>review</th>\n",
       "      <th>sentiment</th>\n",
       "    </tr>\n",
       "  </thead>\n",
       "  <tbody>\n",
       "    <tr>\n",
       "      <th>0</th>\n",
       "      <td>One of the other reviewers has mentioned that ...</td>\n",
       "      <td>1</td>\n",
       "    </tr>\n",
       "    <tr>\n",
       "      <th>1</th>\n",
       "      <td>A wonderful little production. &lt;br /&gt;&lt;br /&gt;The...</td>\n",
       "      <td>1</td>\n",
       "    </tr>\n",
       "    <tr>\n",
       "      <th>2</th>\n",
       "      <td>I thought this was a wonderful way to spend ti...</td>\n",
       "      <td>1</td>\n",
       "    </tr>\n",
       "    <tr>\n",
       "      <th>3</th>\n",
       "      <td>Basically there's a family where a little boy ...</td>\n",
       "      <td>0</td>\n",
       "    </tr>\n",
       "    <tr>\n",
       "      <th>4</th>\n",
       "      <td>Petter Mattei's \"Love in the Time of Money\" is...</td>\n",
       "      <td>1</td>\n",
       "    </tr>\n",
       "  </tbody>\n",
       "</table>\n",
       "</div>"
      ],
      "text/plain": [
       "                                              review  sentiment\n",
       "0  One of the other reviewers has mentioned that ...          1\n",
       "1  A wonderful little production. <br /><br />The...          1\n",
       "2  I thought this was a wonderful way to spend ti...          1\n",
       "3  Basically there's a family where a little boy ...          0\n",
       "4  Petter Mattei's \"Love in the Time of Money\" is...          1"
      ]
     },
     "execution_count": 49,
     "metadata": {},
     "output_type": "execute_result"
    }
   ],
   "source": [
    "df.head()"
   ]
  },
  {
   "cell_type": "code",
   "execution_count": 50,
   "id": "cb10dd89",
   "metadata": {},
   "outputs": [
    {
     "data": {
      "text/plain": [
       "1    25000\n",
       "0    25000\n",
       "Name: sentiment, dtype: int64"
      ]
     },
     "execution_count": 50,
     "metadata": {},
     "output_type": "execute_result"
    }
   ],
   "source": [
    "df.sentiment.value_counts()"
   ]
  },
  {
   "cell_type": "code",
   "execution_count": 51,
   "id": "63f14356",
   "metadata": {},
   "outputs": [
    {
     "data": {
      "text/plain": [
       "(50000, 2)"
      ]
     },
     "execution_count": 51,
     "metadata": {},
     "output_type": "execute_result"
    }
   ],
   "source": [
    "df.shape"
   ]
  },
  {
   "cell_type": "code",
   "execution_count": 52,
   "id": "8de5727a",
   "metadata": {},
   "outputs": [],
   "source": [
    "df = df.sample(frac=1).reset_index(drop=True)"
   ]
  },
  {
   "cell_type": "code",
   "execution_count": 53,
   "id": "171286e3",
   "metadata": {},
   "outputs": [
    {
     "data": {
      "text/html": [
       "<div>\n",
       "<style scoped>\n",
       "    .dataframe tbody tr th:only-of-type {\n",
       "        vertical-align: middle;\n",
       "    }\n",
       "\n",
       "    .dataframe tbody tr th {\n",
       "        vertical-align: top;\n",
       "    }\n",
       "\n",
       "    .dataframe thead th {\n",
       "        text-align: right;\n",
       "    }\n",
       "</style>\n",
       "<table border=\"1\" class=\"dataframe\">\n",
       "  <thead>\n",
       "    <tr style=\"text-align: right;\">\n",
       "      <th></th>\n",
       "      <th>review</th>\n",
       "      <th>sentiment</th>\n",
       "    </tr>\n",
       "  </thead>\n",
       "  <tbody>\n",
       "    <tr>\n",
       "      <th>0</th>\n",
       "      <td>Think of the ending of the Grudge 2 with the f...</td>\n",
       "      <td>0</td>\n",
       "    </tr>\n",
       "    <tr>\n",
       "      <th>1</th>\n",
       "      <td>Arg. The shuffling dinosaurs are back to take ...</td>\n",
       "      <td>0</td>\n",
       "    </tr>\n",
       "    <tr>\n",
       "      <th>2</th>\n",
       "      <td>This movie provided NOTHING new or worthwhile....</td>\n",
       "      <td>0</td>\n",
       "    </tr>\n",
       "    <tr>\n",
       "      <th>3</th>\n",
       "      <td>From very long, we are seeing movies on Gandhi...</td>\n",
       "      <td>1</td>\n",
       "    </tr>\n",
       "    <tr>\n",
       "      <th>4</th>\n",
       "      <td>I loved this show. I think the first time I tr...</td>\n",
       "      <td>1</td>\n",
       "    </tr>\n",
       "    <tr>\n",
       "      <th>5</th>\n",
       "      <td>I have to say that I used to be a huge fan of ...</td>\n",
       "      <td>0</td>\n",
       "    </tr>\n",
       "    <tr>\n",
       "      <th>6</th>\n",
       "      <td>Final Score: 1.8 (out of 10)&lt;br /&gt;&lt;br /&gt;After ...</td>\n",
       "      <td>0</td>\n",
       "    </tr>\n",
       "    <tr>\n",
       "      <th>7</th>\n",
       "      <td>I walked out of this movie and I did this only...</td>\n",
       "      <td>0</td>\n",
       "    </tr>\n",
       "    <tr>\n",
       "      <th>8</th>\n",
       "      <td>This a good episode of The New Twilight Zone t...</td>\n",
       "      <td>1</td>\n",
       "    </tr>\n",
       "    <tr>\n",
       "      <th>9</th>\n",
       "      <td>Welcome to Collinwood is one of the most delig...</td>\n",
       "      <td>1</td>\n",
       "    </tr>\n",
       "  </tbody>\n",
       "</table>\n",
       "</div>"
      ],
      "text/plain": [
       "                                              review  sentiment\n",
       "0  Think of the ending of the Grudge 2 with the f...          0\n",
       "1  Arg. The shuffling dinosaurs are back to take ...          0\n",
       "2  This movie provided NOTHING new or worthwhile....          0\n",
       "3  From very long, we are seeing movies on Gandhi...          1\n",
       "4  I loved this show. I think the first time I tr...          1\n",
       "5  I have to say that I used to be a huge fan of ...          0\n",
       "6  Final Score: 1.8 (out of 10)<br /><br />After ...          0\n",
       "7  I walked out of this movie and I did this only...          0\n",
       "8  This a good episode of The New Twilight Zone t...          1\n",
       "9  Welcome to Collinwood is one of the most delig...          1"
      ]
     },
     "execution_count": 53,
     "metadata": {},
     "output_type": "execute_result"
    }
   ],
   "source": [
    "df.head(10)"
   ]
  },
  {
   "cell_type": "code",
   "execution_count": 54,
   "id": "124f9dd7",
   "metadata": {},
   "outputs": [],
   "source": [
    "## Data Clean"
   ]
  },
  {
   "cell_type": "code",
   "execution_count": 55,
   "id": "d47b9165",
   "metadata": {},
   "outputs": [],
   "source": [
    "import re\n",
    "\n",
    "def clean(x):\n",
    "    \n",
    "    #remove all html tags from data\n",
    "    #remove all numbers from data\n",
    "    #remove all special chars from data\n",
    "    #etc..\n",
    "    s = re.sub('[^A-Za-z]',' ',x)  #to replace everything except A-Z or a-z\n",
    "    s = re.sub('\\s+',' ',s)\n",
    "    s = s.strip()\n",
    "    \n",
    "    return s.lower()\n",
    "\n"
   ]
  },
  {
   "cell_type": "code",
   "execution_count": 56,
   "id": "23104557",
   "metadata": {},
   "outputs": [],
   "source": [
    "df['review'] = df.review.apply(clean)"
   ]
  },
  {
   "cell_type": "code",
   "execution_count": 57,
   "id": "06ee538b",
   "metadata": {},
   "outputs": [],
   "source": [
    "# data splitting"
   ]
  },
  {
   "cell_type": "code",
   "execution_count": 58,
   "id": "a63b136e",
   "metadata": {},
   "outputs": [],
   "source": [
    "train_input,train_output = df.iloc[:10000,0],df.iloc[:10000,1]\n",
    "test_input,test_output = df.iloc[10000:15000,0],df.iloc[10000:15000,1]"
   ]
  },
  {
   "cell_type": "code",
   "execution_count": 59,
   "id": "c57ab90f",
   "metadata": {},
   "outputs": [
    {
     "data": {
      "text/plain": [
       "(10000,)"
      ]
     },
     "execution_count": 59,
     "metadata": {},
     "output_type": "execute_result"
    }
   ],
   "source": [
    "train_input.shape"
   ]
  },
  {
   "cell_type": "code",
   "execution_count": 60,
   "id": "f0769744",
   "metadata": {},
   "outputs": [
    {
     "data": {
      "text/plain": [
       "(5000,)"
      ]
     },
     "execution_count": 60,
     "metadata": {},
     "output_type": "execute_result"
    }
   ],
   "source": [
    "test_input.shape"
   ]
  },
  {
   "cell_type": "code",
   "execution_count": 61,
   "id": "8fab3962",
   "metadata": {},
   "outputs": [],
   "source": [
    "## Transform data into numeric form"
   ]
  },
  {
   "cell_type": "code",
   "execution_count": 62,
   "id": "3760f53b",
   "metadata": {},
   "outputs": [],
   "source": [
    "from nltk.corpus import stopwords\n",
    "\n",
    "stopwords = stopwords.words('english')"
   ]
  },
  {
   "cell_type": "code",
   "execution_count": 63,
   "id": "b5c7fb50",
   "metadata": {},
   "outputs": [],
   "source": [
    "### Remove 'not' from stopword list"
   ]
  },
  {
   "cell_type": "code",
   "execution_count": 64,
   "id": "7fdbeebe",
   "metadata": {},
   "outputs": [],
   "source": [
    "if 'not' in stopwords:\n",
    "    stopwords.remove('not')"
   ]
  },
  {
   "cell_type": "code",
   "execution_count": 65,
   "id": "999afa6d",
   "metadata": {},
   "outputs": [
    {
     "name": "stdout",
     "output_type": "stream",
     "text": [
      "not found\n"
     ]
    }
   ],
   "source": [
    "## confirm \n",
    "\n",
    "if 'not' in stopwords:\n",
    "    print('found')\n",
    "else:\n",
    "    print('not found')"
   ]
  },
  {
   "cell_type": "code",
   "execution_count": 66,
   "id": "2916c6f8",
   "metadata": {},
   "outputs": [],
   "source": [
    "from sklearn.feature_extraction.text import CountVectorizer"
   ]
  },
  {
   "cell_type": "code",
   "execution_count": 67,
   "id": "8e824bdc",
   "metadata": {},
   "outputs": [],
   "source": [
    "cv1 = CountVectorizer(stop_words=stopwords)  "
   ]
  },
  {
   "cell_type": "code",
   "execution_count": 68,
   "id": "1960ba77",
   "metadata": {},
   "outputs": [],
   "source": [
    "cv_train = cv1.fit_transform(train_input).toarray()\n",
    "\n",
    "cv_test = cv1.transform(test_input).toarray()"
   ]
  },
  {
   "cell_type": "code",
   "execution_count": 69,
   "id": "2987bc94",
   "metadata": {},
   "outputs": [],
   "source": [
    "#cv1.get_feature_names()"
   ]
  },
  {
   "cell_type": "code",
   "execution_count": 70,
   "id": "9d46c994",
   "metadata": {},
   "outputs": [
    {
     "data": {
      "text/plain": [
       "(10000, 51025)"
      ]
     },
     "execution_count": 70,
     "metadata": {},
     "output_type": "execute_result"
    }
   ],
   "source": [
    "cv_train.shape"
   ]
  },
  {
   "cell_type": "code",
   "execution_count": 71,
   "id": "13357d5a",
   "metadata": {},
   "outputs": [
    {
     "data": {
      "text/plain": [
       "(5000, 51025)"
      ]
     },
     "execution_count": 71,
     "metadata": {},
     "output_type": "execute_result"
    }
   ],
   "source": [
    "cv_test.shape"
   ]
  },
  {
   "cell_type": "code",
   "execution_count": 72,
   "id": "fbd1cb31",
   "metadata": {},
   "outputs": [],
   "source": [
    "#cv1.get_feature_names()"
   ]
  },
  {
   "cell_type": "code",
   "execution_count": 73,
   "id": "e9a6f8bb",
   "metadata": {},
   "outputs": [
    {
     "data": {
      "text/plain": [
       "(4179,)"
      ]
     },
     "execution_count": 73,
     "metadata": {},
     "output_type": "execute_result"
    }
   ],
   "source": [
    "ytrain.shape"
   ]
  },
  {
   "cell_type": "code",
   "execution_count": 74,
   "id": "039d7123",
   "metadata": {},
   "outputs": [],
   "source": [
    "## Train model"
   ]
  },
  {
   "cell_type": "code",
   "execution_count": 75,
   "id": "8a4899f8",
   "metadata": {},
   "outputs": [],
   "source": [
    "from sklearn.naive_bayes import MultinomialNB,GaussianNB,BernoulliNB\n",
    "\n",
    "from sklearn.linear_model import LogisticRegression\n",
    "from sklearn.neighbors import KNeighborsClassifier\n",
    "\n",
    "from sklearn.metrics import confusion_matrix,recall_score,precision_score\n",
    "\n",
    "import numpy as np"
   ]
  },
  {
   "cell_type": "code",
   "execution_count": 76,
   "id": "9ee8ab03",
   "metadata": {},
   "outputs": [
    {
     "data": {
      "text/plain": [
       "MultinomialNB()"
      ]
     },
     "execution_count": 76,
     "metadata": {},
     "output_type": "execute_result"
    }
   ],
   "source": [
    "nb = MultinomialNB()\n",
    "\n",
    "nb.fit(cv_train,train_output)"
   ]
  },
  {
   "cell_type": "code",
   "execution_count": 77,
   "id": "5666a089",
   "metadata": {},
   "outputs": [
    {
     "data": {
      "text/plain": [
       "0.8474"
      ]
     },
     "execution_count": 77,
     "metadata": {},
     "output_type": "execute_result"
    }
   ],
   "source": [
    "test_score = nb.score(cv_test,test_output)\n",
    "test_score"
   ]
  },
  {
   "cell_type": "code",
   "execution_count": 78,
   "id": "b5a380c1",
   "metadata": {},
   "outputs": [],
   "source": [
    "pred = nb.predict(cv_test)"
   ]
  },
  {
   "cell_type": "code",
   "execution_count": null,
   "id": "4ca16411",
   "metadata": {},
   "outputs": [],
   "source": []
  },
  {
   "cell_type": "code",
   "execution_count": 79,
   "id": "30157582",
   "metadata": {},
   "outputs": [
    {
     "data": {
      "text/plain": [
       "array([2467, 2533], dtype=int64)"
      ]
     },
     "execution_count": 79,
     "metadata": {},
     "output_type": "execute_result"
    }
   ],
   "source": [
    "np.bincount(test_output)"
   ]
  },
  {
   "cell_type": "code",
   "execution_count": 80,
   "id": "d2dd6306",
   "metadata": {},
   "outputs": [
    {
     "data": {
      "text/plain": [
       "1    2533\n",
       "0    2467\n",
       "Name: sentiment, dtype: int64"
      ]
     },
     "execution_count": 80,
     "metadata": {},
     "output_type": "execute_result"
    }
   ],
   "source": [
    "test_output.value_counts()"
   ]
  },
  {
   "cell_type": "code",
   "execution_count": 81,
   "id": "8a1170d2",
   "metadata": {},
   "outputs": [
    {
     "data": {
      "text/plain": [
       "array([[2149,  318],\n",
       "       [ 445, 2088]], dtype=int64)"
      ]
     },
     "execution_count": 81,
     "metadata": {},
     "output_type": "execute_result"
    }
   ],
   "source": [
    "confusion_matrix(test_output,pred)"
   ]
  },
  {
   "cell_type": "code",
   "execution_count": 82,
   "id": "04fa660e",
   "metadata": {},
   "outputs": [
    {
     "data": {
      "text/plain": [
       "0.8243189893407027"
      ]
     },
     "execution_count": 82,
     "metadata": {},
     "output_type": "execute_result"
    }
   ],
   "source": [
    "recall_score(test_output,pred)"
   ]
  },
  {
   "cell_type": "code",
   "execution_count": 83,
   "id": "4aa204e3",
   "metadata": {},
   "outputs": [
    {
     "data": {
      "text/plain": [
       "0.8678304239401496"
      ]
     },
     "execution_count": 83,
     "metadata": {},
     "output_type": "execute_result"
    }
   ],
   "source": [
    "precision_score(test_output,pred)"
   ]
  },
  {
   "cell_type": "code",
   "execution_count": null,
   "id": "e6274bbb",
   "metadata": {},
   "outputs": [],
   "source": []
  },
  {
   "cell_type": "code",
   "execution_count": 84,
   "id": "2af46e2e",
   "metadata": {},
   "outputs": [],
   "source": [
    "#Evaluate model on sample dataset"
   ]
  },
  {
   "cell_type": "code",
   "execution_count": 85,
   "id": "f547f5a2",
   "metadata": {},
   "outputs": [],
   "source": [
    "test = ['The Movie@# wasss AmaZIng','It had %$Boring ScripT $%#']"
   ]
  },
  {
   "cell_type": "code",
   "execution_count": 86,
   "id": "a9c1bed2",
   "metadata": {},
   "outputs": [],
   "source": [
    "cleaned_data=[]\n",
    "\n",
    "for i in test:\n",
    "    t = clean(i)\n",
    "    cleaned_data.append(t)"
   ]
  },
  {
   "cell_type": "code",
   "execution_count": 87,
   "id": "88566fe1",
   "metadata": {},
   "outputs": [
    {
     "data": {
      "text/plain": [
       "['the movie wasss amazing', 'it had boring script']"
      ]
     },
     "execution_count": 87,
     "metadata": {},
     "output_type": "execute_result"
    }
   ],
   "source": [
    "cleaned_data"
   ]
  },
  {
   "cell_type": "code",
   "execution_count": 88,
   "id": "20a77159",
   "metadata": {},
   "outputs": [],
   "source": [
    "t1 = cv1.transform(cleaned_data)"
   ]
  },
  {
   "cell_type": "code",
   "execution_count": 89,
   "id": "d704ae94",
   "metadata": {},
   "outputs": [
    {
     "data": {
      "text/plain": [
       "(2, 51025)"
      ]
     },
     "execution_count": 89,
     "metadata": {},
     "output_type": "execute_result"
    }
   ],
   "source": [
    "t1.shape"
   ]
  },
  {
   "cell_type": "code",
   "execution_count": 90,
   "id": "de1731dc",
   "metadata": {},
   "outputs": [
    {
     "data": {
      "text/plain": [
       "array([1, 0], dtype=int64)"
      ]
     },
     "execution_count": 90,
     "metadata": {},
     "output_type": "execute_result"
    }
   ],
   "source": [
    "nb.predict(t1)"
   ]
  },
  {
   "cell_type": "code",
   "execution_count": null,
   "id": "bdc8c457",
   "metadata": {},
   "outputs": [],
   "source": []
  }
 ],
 "metadata": {
  "kernelspec": {
   "display_name": "Python 3 (ipykernel)",
   "language": "python",
   "name": "python3"
  },
  "language_info": {
   "codemirror_mode": {
    "name": "ipython",
    "version": 3
   },
   "file_extension": ".py",
   "mimetype": "text/x-python",
   "name": "python",
   "nbconvert_exporter": "python",
   "pygments_lexer": "ipython3",
   "version": "3.9.7"
  }
 },
 "nbformat": 4,
 "nbformat_minor": 5
}
